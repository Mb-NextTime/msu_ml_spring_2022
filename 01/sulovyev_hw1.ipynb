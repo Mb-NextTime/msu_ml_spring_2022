{
 "cells": [
  {
   "cell_type": "markdown",
   "metadata": {},
   "source": [
    "## Общая информация\n",
    "\n",
    "**Срок сдачи:** 5 апреля 2022, 08:30 \n",
    "\n",
    "**Штраф за опоздание:** по 1 баллу за 24 часа задержки. Через 5 дней домашнее задание сгорает.\n",
    "\n",
    "При отправлении ДЗ указывайте фамилию в названии файла\n",
    "Присылать ДЗ необходимо в виде ссылки на свой github репозиторий на почту ml1.sphere@mail.ru с указанием темы в следующем формате:\n",
    "\n",
    "[ML0220, Задание 1] Фамилия Имя.\n",
    "\n",
    "Используйте данный Ipython Notebook при оформлении домашнего задания."
   ]
  },
  {
   "cell_type": "markdown",
   "metadata": {},
   "source": [
    "\n",
    "**Штрафные баллы:**\n",
    "\n",
    "1. Отсутствие фамилии в имени скрипта (скрипт должен называться по аналогии со stroykova_hw1.ipynb) -0.5 баллов\n",
    "2. Все строчки должны быть выполнены. Нужно, чтобы output команды можно было увидеть уже в git'е. В противном случае -0.5 баллов\n"
   ]
  },
  {
   "cell_type": "code",
   "execution_count": 1,
   "metadata": {
    "jupyter": {
     "outputs_hidden": true
    }
   },
   "outputs": [],
   "source": [
    "import numpy as np\n",
    "import matplotlib.pyplot as plt\n",
    "\n",
    "import seaborn as sns\n",
    "import random\n",
    "from sklearn import datasets\n",
    "from sklearn.base import BaseEstimator\n",
    "from sklearn.datasets import fetch_openml, fetch_20newsgroups\n",
    "from sklearn.feature_extraction.text import CountVectorizer, TfidfVectorizer\n",
    "\n",
    "from sklearn.model_selection import train_test_split\n",
    "\n",
    "from sklearn.neighbors import KNeighborsClassifier\n",
    "from sklearn.neighbors import KDTree\n",
    "from sklearn.metrics import accuracy_score\n",
    "from sklearn.preprocessing import normalize\n",
    "\n",
    "from collections import Counter\n",
    "from scipy import stats"
   ]
  },
  {
   "cell_type": "markdown",
   "metadata": {},
   "source": [
    "# Задание 1 (1 балл)\n",
    "Реализовать KNN в классе MyKNeighborsClassifier (обязательное условие: точность не ниже sklearn реализации)\n",
    "Разберитесь самостоятельно, какая мера расстояния используется в KNeighborsClassifier дефолтно и реализуйте свой алгоритм именно с этой мерой. \n",
    "Для подсчета расстояний можно использовать функции [отсюда](https://docs.scipy.org/doc/scipy/reference/spatial.distance.html)"
   ]
  },
  {
   "cell_type": "code",
   "execution_count": 2,
   "metadata": {
    "jupyter": {
     "outputs_hidden": true
    }
   },
   "outputs": [],
   "source": [
    "class MyKNeighborsClassifier(BaseEstimator):\n",
    "    \n",
    "    def __init__(self, n_neighbors=5, algorithm='brute',\n",
    "                 p=2, metric='minkowski'):\n",
    "        self.n_neighbors = n_neighbors\n",
    "        self.algorithm = algorithm\n",
    "        self.p = p\n",
    "        self.metric = metric\n",
    "    \n",
    "    def fit(self, X, y):\n",
    "        if self.algorithm == 'brute':\n",
    "            self.train = np.asarray(X)\n",
    "            self.targets = np.asarray(y)\n",
    "        elif self.algorithm == 'kd_tree':\n",
    "            self.tree = KDTree(X)\n",
    "            self.targets = np.asarray(y)\n",
    "    \n",
    "    def predict(self, X):\n",
    "        prediction = []\n",
    "        \n",
    "        if self.algorithm == 'brute':\n",
    "            for i in range(len(X)):\n",
    "                distances = []\n",
    "\n",
    "                for j in range(len(self.train)):\n",
    "                    d = np.sum(np.square(X[i] - self.train[j]))\n",
    "                    distances.append((d, self.targets[j]))\n",
    "\n",
    "                distances = sorted(distances)\n",
    "                neighbors = []\n",
    "                for item in range(self.n_neighbors):\n",
    "                    neighbors.append(distances[item][1])\n",
    "                prediction.append(stats.mode(neighbors)[0][0])\n",
    "        \n",
    "        elif self.algorithm == 'kd_tree':\n",
    "            for i in range(len(X)):\n",
    "                dist = []\n",
    "                ind = []\n",
    "                if X[i].shape != (1, X[i].size):\n",
    "                    dist, ind = self.tree.query(X[i].reshape(1, -1), k=self.n_neighbors)\n",
    "                else:\n",
    "                    dist, ind = self.tree.query(X[i], k=self.n_neighbors)\n",
    "                neighbors = np.take(self.targets, ind)\n",
    "                prediction.append(stats.mode(neighbors)[0][0][0])\n",
    "\n",
    "        return prediction"
   ]
  },
  {
   "cell_type": "markdown",
   "metadata": {},
   "source": [
    "**IRIS**\n",
    "\n",
    "В библиотеке scikit-learn есть несколько датасетов из коробки. Один из них [Ирисы Фишера](https://ru.wikipedia.org/wiki/%D0%98%D1%80%D0%B8%D1%81%D1%8B_%D0%A4%D0%B8%D1%88%D0%B5%D1%80%D0%B0)"
   ]
  },
  {
   "cell_type": "code",
   "execution_count": 3,
   "metadata": {
    "jupyter": {
     "outputs_hidden": true
    }
   },
   "outputs": [],
   "source": [
    "iris = datasets.load_iris()"
   ]
  },
  {
   "cell_type": "code",
   "execution_count": 4,
   "metadata": {
    "jupyter": {
     "outputs_hidden": true
    }
   },
   "outputs": [],
   "source": [
    "X_train, X_test, y_train, y_test = train_test_split(iris.data, iris.target, test_size=0.1, stratify=iris.target)"
   ]
  },
  {
   "cell_type": "code",
   "execution_count": 5,
   "metadata": {
    "jupyter": {
     "outputs_hidden": true
    }
   },
   "outputs": [],
   "source": [
    "clf = KNeighborsClassifier(n_neighbors=2, algorithm='brute')\n",
    "my_clf = MyKNeighborsClassifier(n_neighbors=2, algorithm='brute')"
   ]
  },
  {
   "cell_type": "code",
   "execution_count": 6,
   "metadata": {
    "jupyter": {
     "outputs_hidden": true
    }
   },
   "outputs": [],
   "source": [
    "clf.fit(X_train, y_train)\n",
    "my_clf.fit(X_train, y_train)"
   ]
  },
  {
   "cell_type": "code",
   "execution_count": 7,
   "metadata": {
    "jupyter": {
     "outputs_hidden": true
    },
    "scrolled": true
   },
   "outputs": [
    {
     "name": "stdout",
     "output_type": "stream",
     "text": [
      "[1 1 2 0 1 0 2 2 0 0 0 1 2 2 1]\n",
      "[1, 1, 2, 0, 1, 0, 2, 2, 0, 0, 0, 1, 2, 2, 1]\n"
     ]
    }
   ],
   "source": [
    "sklearn_pred = clf.predict(X_test)\n",
    "print(sklearn_pred)\n",
    "my_clf_pred = my_clf.predict(X_test)\n",
    "print(my_clf_pred)\n",
    "assert abs( accuracy_score(y_test, my_clf_pred) -  accuracy_score(y_test, sklearn_pred ) )<0.005, \"Score must be simillar\""
   ]
  },
  {
   "cell_type": "markdown",
   "metadata": {},
   "source": [
    "### Задание 2 (0.5 балла)\n",
    "\n",
    "Давайте попробуем добиться скорости работы на fit, predict сравнимой со sklearn для iris. Допускается замедление не более чем в 2 раза. \n",
    "Для этого используем numpy. "
   ]
  },
  {
   "cell_type": "code",
   "execution_count": 8,
   "metadata": {
    "jupyter": {
     "outputs_hidden": true
    }
   },
   "outputs": [
    {
     "name": "stdout",
     "output_type": "stream",
     "text": [
      "CPU times: user 338 µs, sys: 264 µs, total: 602 µs\n",
      "Wall time: 467 µs\n"
     ]
    },
    {
     "data": {
      "text/plain": [
       "KNeighborsClassifier(algorithm='brute', n_neighbors=2)"
      ]
     },
     "execution_count": 8,
     "metadata": {},
     "output_type": "execute_result"
    }
   ],
   "source": [
    "%time clf.fit(X_train, y_train)"
   ]
  },
  {
   "cell_type": "code",
   "execution_count": 9,
   "metadata": {
    "jupyter": {
     "outputs_hidden": true
    }
   },
   "outputs": [
    {
     "name": "stdout",
     "output_type": "stream",
     "text": [
      "CPU times: user 6 µs, sys: 0 ns, total: 6 µs\n",
      "Wall time: 6.44 µs\n"
     ]
    }
   ],
   "source": [
    "%time my_clf.fit(X_train, y_train)"
   ]
  },
  {
   "cell_type": "code",
   "execution_count": 10,
   "metadata": {
    "jupyter": {
     "outputs_hidden": true
    }
   },
   "outputs": [
    {
     "name": "stdout",
     "output_type": "stream",
     "text": [
      "CPU times: user 1.13 ms, sys: 0 ns, total: 1.13 ms\n",
      "Wall time: 875 µs\n"
     ]
    },
    {
     "data": {
      "text/plain": [
       "array([1, 1, 2, 0, 1, 0, 2, 2, 0, 0, 0, 1, 2, 2, 1])"
      ]
     },
     "execution_count": 10,
     "metadata": {},
     "output_type": "execute_result"
    }
   ],
   "source": [
    "%time clf.predict(X_test)"
   ]
  },
  {
   "cell_type": "code",
   "execution_count": 11,
   "metadata": {
    "jupyter": {
     "outputs_hidden": true
    },
    "scrolled": true
   },
   "outputs": [
    {
     "name": "stdout",
     "output_type": "stream",
     "text": [
      "CPU times: user 9.81 ms, sys: 342 µs, total: 10.2 ms\n",
      "Wall time: 9.59 ms\n"
     ]
    },
    {
     "data": {
      "text/plain": [
       "[1, 1, 2, 0, 1, 0, 2, 2, 0, 0, 0, 1, 2, 2, 1]"
      ]
     },
     "execution_count": 11,
     "metadata": {},
     "output_type": "execute_result"
    }
   ],
   "source": [
    "%time my_clf.predict(X_test)"
   ]
  },
  {
   "cell_type": "markdown",
   "metadata": {},
   "source": [
    "### Задание 3 (1 балл)\n",
    "Добавьте algorithm='kd_tree' в реализацию KNN (использовать KDTree из sklearn.neighbors). Необходимо добиться скорости работы на fit,  predict сравнимой со sklearn для iris. Допускается замедление не более чем в 2 раза. \n",
    "Для этого используем numpy. Точность не должна уступать значению KNN из sklearn. "
   ]
  },
  {
   "cell_type": "code",
   "execution_count": 12,
   "metadata": {
    "jupyter": {
     "outputs_hidden": true
    }
   },
   "outputs": [],
   "source": [
    "clf = KNeighborsClassifier(n_neighbors=2, algorithm='kd_tree')\n",
    "my_clf = MyKNeighborsClassifier(n_neighbors=2, algorithm='kd_tree')"
   ]
  },
  {
   "cell_type": "code",
   "execution_count": 13,
   "metadata": {
    "jupyter": {
     "outputs_hidden": true
    }
   },
   "outputs": [],
   "source": [
    "X_train, X_test, y_train, y_test = train_test_split(iris.data, iris.target, test_size=0.1, stratify=iris.target)"
   ]
  },
  {
   "cell_type": "code",
   "execution_count": 14,
   "metadata": {
    "jupyter": {
     "outputs_hidden": true
    },
    "scrolled": true
   },
   "outputs": [
    {
     "name": "stdout",
     "output_type": "stream",
     "text": [
      "CPU times: user 998 µs, sys: 0 ns, total: 998 µs\n",
      "Wall time: 806 µs\n"
     ]
    },
    {
     "data": {
      "text/plain": [
       "KNeighborsClassifier(algorithm='kd_tree', n_neighbors=2)"
      ]
     },
     "execution_count": 14,
     "metadata": {},
     "output_type": "execute_result"
    }
   ],
   "source": [
    "%time clf.fit(X_train, y_train)"
   ]
  },
  {
   "cell_type": "code",
   "execution_count": 15,
   "metadata": {
    "jupyter": {
     "outputs_hidden": true
    }
   },
   "outputs": [
    {
     "name": "stdout",
     "output_type": "stream",
     "text": [
      "CPU times: user 201 µs, sys: 0 ns, total: 201 µs\n",
      "Wall time: 194 µs\n"
     ]
    }
   ],
   "source": [
    "%time my_clf.fit(X_train, y_train)"
   ]
  },
  {
   "cell_type": "code",
   "execution_count": 16,
   "metadata": {
    "jupyter": {
     "outputs_hidden": true
    },
    "scrolled": true
   },
   "outputs": [
    {
     "name": "stdout",
     "output_type": "stream",
     "text": [
      "CPU times: user 1.14 ms, sys: 0 ns, total: 1.14 ms\n",
      "Wall time: 952 µs\n"
     ]
    },
    {
     "data": {
      "text/plain": [
       "array([0, 2, 2, 1, 2, 0, 0, 1, 1, 0, 2, 0, 1, 1, 1])"
      ]
     },
     "execution_count": 16,
     "metadata": {},
     "output_type": "execute_result"
    }
   ],
   "source": [
    "%time clf.predict(X_test)"
   ]
  },
  {
   "cell_type": "code",
   "execution_count": 17,
   "metadata": {
    "jupyter": {
     "outputs_hidden": true
    }
   },
   "outputs": [
    {
     "name": "stdout",
     "output_type": "stream",
     "text": [
      "CPU times: user 1.88 ms, sys: 1.43 ms, total: 3.32 ms\n",
      "Wall time: 2.53 ms\n"
     ]
    },
    {
     "data": {
      "text/plain": [
       "[0, 2, 2, 1, 2, 0, 0, 1, 1, 0, 2, 0, 1, 1, 1]"
      ]
     },
     "execution_count": 17,
     "metadata": {},
     "output_type": "execute_result"
    }
   ],
   "source": [
    "%time my_clf.predict(X_test)"
   ]
  },
  {
   "cell_type": "code",
   "execution_count": 18,
   "metadata": {
    "jupyter": {
     "outputs_hidden": true
    }
   },
   "outputs": [],
   "source": [
    "sklearn_pred = clf.predict(X_test)\n",
    "my_clf_pred = my_clf.predict(X_test)\n",
    "assert abs( accuracy_score(y_test, my_clf_pred) -  accuracy_score(y_test, sklearn_pred ) )<0.005, \"Score must be simillar\""
   ]
  },
  {
   "cell_type": "markdown",
   "metadata": {},
   "source": [
    "### Задание 4 (2.5 балла)\n",
    "\n",
    "Рассмотрим новый датасет 20 newsgroups"
   ]
  },
  {
   "cell_type": "code",
   "execution_count": 79,
   "metadata": {
    "jupyter": {
     "outputs_hidden": true
    }
   },
   "outputs": [],
   "source": [
    "newsgroups = fetch_20newsgroups(subset='train',remove=['headers','footers', 'quotes'])"
   ]
  },
  {
   "cell_type": "code",
   "execution_count": 80,
   "metadata": {
    "jupyter": {
     "outputs_hidden": true
    }
   },
   "outputs": [],
   "source": [
    "data = newsgroups['data']\n",
    "target = newsgroups['target']"
   ]
  },
  {
   "cell_type": "markdown",
   "metadata": {},
   "source": [
    "Преобразуйте текстовые данные из data с помощью [CountVectorizer](https://scikit-learn.org/stable/modules/generated/sklearn.feature_extraction.text.CountVectorizer.html). Словарь можно ограничить по частотности."
   ]
  },
  {
   "cell_type": "code",
   "execution_count": 81,
   "metadata": {
    "jupyter": {
     "outputs_hidden": true
    }
   },
   "outputs": [
    {
     "data": {
      "text/plain": [
       "array([[0, 0, 0, ..., 0, 1, 0],\n",
       "       [0, 0, 0, ..., 0, 0, 0],\n",
       "       [0, 0, 0, ..., 0, 0, 0],\n",
       "       ...,\n",
       "       [0, 0, 0, ..., 0, 0, 0],\n",
       "       [0, 0, 0, ..., 0, 0, 0],\n",
       "       [0, 0, 0, ..., 0, 0, 0]])"
      ]
     },
     "execution_count": 81,
     "metadata": {},
     "output_type": "execute_result"
    }
   ],
   "source": [
    "Y = np.copy(target)\n",
    "vectorizer = CountVectorizer(min_df = 0.03, stop_words='english')\n",
    "X = vectorizer.fit_transform(data)\n",
    "X = X.toarray()\n",
    "X"
   ]
  },
  {
   "cell_type": "markdown",
   "metadata": {},
   "source": [
    "*Так мы получили векторное представление наших текстов. Значит можно приступать к задаче обучения модели*"
   ]
  },
  {
   "cell_type": "markdown",
   "metadata": {},
   "source": [
    "Реализуйте разбиение выборки для кросс-валидации на 3 фолдах. Разрешено использовать sklearn.cross_validatio"
   ]
  },
  {
   "cell_type": "code",
   "execution_count": 82,
   "metadata": {
    "jupyter": {
     "outputs_hidden": true
    }
   },
   "outputs": [],
   "source": [
    "def KFold(k, x, y):\n",
    "    \n",
    "    p = np.random.permutation(len(x))\n",
    "    X = x[p]\n",
    "    Y = y[p]\n",
    "    n_split = k\n",
    "\n",
    "    kfold = []\n",
    "    for i in range(n_split):\n",
    "\n",
    "        X_train, X_test, y_train, y_test = train_test_split(X, Y, test_size=0.33, random_state=i)\n",
    "        kfold.append(((X_train, y_train), (X_test, y_test)))\n",
    "        \n",
    "    return kfold"
   ]
  },
  {
   "cell_type": "markdown",
   "metadata": {},
   "source": [
    "Напишите метод, позволяющий найти оптимальное количество ближайших соседей(дающее максимальную точность в среднем на валидации на 3 фолдах).\n",
    "Постройте график зависимости средней точности от количества соседей. Можно рассмотреть число соседей от 1 до 10."
   ]
  },
  {
   "cell_type": "code",
   "execution_count": 83,
   "metadata": {
    "jupyter": {
     "outputs_hidden": true
    }
   },
   "outputs": [],
   "source": [
    "def find_best_k(knn, kfold):\n",
    "\n",
    "    error_train = []\n",
    "    for k in range(1, 11):\n",
    "        print(k, end=',')\n",
    "        knn.n_neighbors = k\n",
    "        cur_error = []\n",
    "        for i in range(3):\n",
    "            trn = kfold[i][0][0]\n",
    "            trn_targ = kfold[i][0][1]\n",
    "            \n",
    "            tst = kfold[i][1][0]\n",
    "            tst_targ = kfold[i][1][1]\n",
    "\n",
    "\n",
    "            knn.fit(trn, trn_targ)\n",
    "            y_pred = knn.predict(tst)\n",
    "            cur_error.append(np.mean(tst_targ != y_pred))\n",
    "\n",
    "        print(\"finished\")        \n",
    "        error_train.append(np.mean(cur_error))\n",
    "        \n",
    "    return error_train"
   ]
  },
  {
   "cell_type": "code",
   "execution_count": 84,
   "metadata": {},
   "outputs": [
    {
     "name": "stdout",
     "output_type": "stream",
     "text": [
      "1,finished\n",
      "2,finished\n",
      "3,finished\n",
      "4,finished\n",
      "5,finished\n",
      "6,finished\n",
      "7,finished\n",
      "8,finished\n",
      "9,finished\n",
      "10,finished\n",
      "[0.8112836993394037, 0.8096768434208177, 0.809587573647563, 0.8106588109266202, 0.8093197643277987, 0.8113729691126584, 0.811997857525442, 0.8086948759150152, 0.8103017318336012, 0.8097661131940724]\n"
     ]
    }
   ],
   "source": [
    "kfold = KFold(3, X, Y)\n",
    "knn = MyKNeighborsClassifier(algorithm='kd_tree')\n",
    "mink_error_train = find_best_k(knn, kfold)\n",
    "print(mink_error_train)"
   ]
  },
  {
   "cell_type": "code",
   "execution_count": 85,
   "metadata": {},
   "outputs": [
    {
     "name": "stdout",
     "output_type": "stream",
     "text": [
      "1,finished\n",
      "2,finished\n",
      "3,finished\n",
      "4,finished\n",
      "5,finished\n",
      "6,finished\n",
      "7,finished\n",
      "8,finished\n",
      "9,finished\n",
      "10,finished\n",
      "[0.7906623817175505, 0.7906623817175505, 0.7899482235315123, 0.7923585074093911, 0.7907516514908052, 0.7875379396536334, 0.787627209426888, 0.7902160328512765, 0.7950366006070344, 0.7914658096768434]\n"
     ]
    }
   ],
   "source": [
    "norm_X = normalize(np.copy(X))\n",
    "kfold = KFold(3, norm_X, Y)\n",
    "knn = MyKNeighborsClassifier(algorithm='kd_tree')\n",
    "cos_error_train = find_best_k(knn, kfold)\n",
    "print(cos_error_train)"
   ]
  },
  {
   "cell_type": "code",
   "execution_count": 86,
   "metadata": {},
   "outputs": [
    {
     "data": {
      "text/plain": [
       "array([[0.        , 0.        , 0.        , ..., 0.        , 0.16935226,\n",
       "        0.        ],\n",
       "       [0.        , 0.        , 0.        , ..., 0.        , 0.        ,\n",
       "        0.        ],\n",
       "       [0.        , 0.        , 0.        , ..., 0.        , 0.        ,\n",
       "        0.        ],\n",
       "       ...,\n",
       "       [0.        , 0.        , 0.        , ..., 0.        , 0.        ,\n",
       "        0.        ],\n",
       "       [0.        , 0.        , 0.        , ..., 0.        , 0.        ,\n",
       "        0.        ],\n",
       "       [0.        , 0.        , 0.        , ..., 0.        , 0.        ,\n",
       "        0.        ]])"
      ]
     },
     "execution_count": 86,
     "metadata": {},
     "output_type": "execute_result"
    }
   ],
   "source": [
    "tf_idf = TfidfVectorizer(min_df = 0.03, max_df=0.4, stop_words='english')\n",
    "idf_X = tf_idf.fit_transform(data)\n",
    "idf_X = idf_X.toarray()\n",
    "idf_X"
   ]
  },
  {
   "cell_type": "code",
   "execution_count": 87,
   "metadata": {},
   "outputs": [
    {
     "name": "stdout",
     "output_type": "stream",
     "text": [
      "1,finished\n",
      "2,finished\n",
      "3,finished\n",
      "4,finished\n",
      "5,finished\n",
      "6,finished\n",
      "7,finished\n",
      "8,finished\n",
      "9,finished\n",
      "10,finished\n",
      "[0.7908409212640599, 0.7939653633279771, 0.7929833958221746, 0.7920014283163721, 0.7947687912872702, 0.7909301910373148, 0.7930726655954293, 0.7926263167291555, 0.7928941260489198, 0.7915550794500983]\n"
     ]
    }
   ],
   "source": [
    "kfold = KFold(3, idf_X, Y)\n",
    "knn = MyKNeighborsClassifier(algorithm='kd_tree')\n",
    "tf_idf_error_train = find_best_k(knn, kfold)\n",
    "print(tf_idf_error_train)"
   ]
  },
  {
   "cell_type": "code",
   "execution_count": 88,
   "metadata": {},
   "outputs": [
    {
     "data": {
      "image/png": "[encoded data removed]",
      "text/plain": [
       "<Figure size 720x360 with 1 Axes>"
      ]
     },
     "metadata": {
      "needs_background": "light"
     },
     "output_type": "display_data"
    }
   ],
   "source": [
    "plt.figure(figsize=(10, 5))\n",
    "plt.plot(range(1, 11), mink_error_train, color='b', label=\"Minkowski\")\n",
    "plt.plot(range(1, 11), cos_error_train, color='r', label=\"Cosinus\")\n",
    "plt.plot(range(1, 11), tf_idf_error_train, color='g', label=\"TF-IDF\")\n",
    "plt.xlabel('Number of nearest neighbors (k)', fontsize=14)\n",
    "plt.ylabel('Error', fontsize=14)\n",
    "plt.title('Finding optimal value of K', fontsize=18, pad=15)\n",
    "plt.legend()\n",
    "plt.show()"
   ]
  },
  {
   "cell_type": "markdown",
   "metadata": {},
   "source": [
    "Как изменится качество на валидации, если:\n",
    "\n",
    "1. Используется косинусная метрика вместо евклидовой.\n",
    "2. К текстам применяется TfIdf векторизацию( sklearn.feature_extraction.text.TfidfVectorizer)\n",
    "\n",
    "Сравните модели, выберите лучшую."
   ]
  },
  {
   "cell_type": "markdown",
   "metadata": {},
   "source": [
    "Загрузим  теперь test  часть нашей выборки и преобразуем её аналогично с train частью. Не забудьте, что наборы слов в train и test части могут отличаться."
   ]
  },
  {
   "cell_type": "code",
   "execution_count": 89,
   "metadata": {
    "jupyter": {
     "outputs_hidden": true
    }
   },
   "outputs": [],
   "source": [
    "newsgroups = fetch_20newsgroups(subset='test',remove=['headers','footers', 'quotes'])"
   ]
  },
  {
   "cell_type": "markdown",
   "metadata": {},
   "source": [
    "Оценим точность вашей лучшей модели на test части датасета. Отличается ли оно от кросс-валидации? Попробуйте сделать выводы, почему отличается качество."
   ]
  },
  {
   "cell_type": "code",
   "execution_count": null,
   "metadata": {
    "jupyter": {
     "outputs_hidden": true
    }
   },
   "outputs": [],
   "source": [
    "test_data = newsgroups['data']\n",
    "test_target = newsgroups['target']\n",
    "test_data = vectorizer.transform(test_data).toarray()\n",
    "knn = MyKNeighborsClassifier(n_neighbors=4, algorithm='kd_tree')\n",
    "knn.fit(X, Y)\n",
    "prediction = knn.predict(test_data)"
   ]
  },
  {
   "cell_type": "code",
   "execution_count": null,
   "metadata": {},
   "outputs": [],
   "source": [
    "print(np.mean(prediction != test_target))"
   ]
  },
  {
   "cell_type": "markdown",
   "metadata": {},
   "source": [
    "Качество отличается из-за проблемы переобучения модели."
   ]
  }
 ],
 "metadata": {
  "kernelspec": {
   "display_name": "Python 3",
   "language": "python",
   "name": "python3"
  },
  "language_info": {
   "codemirror_mode": {
    "name": "ipython",
    "version": 3
   },
   "file_extension": ".py",
   "mimetype": "text/x-python",
   "name": "python",
   "nbconvert_exporter": "python",
   "pygments_lexer": "ipython3",
   "version": "3.8.10"
  },
  "widgets": {
   "application/vnd.jupyter.widget-state+json": {
    "state": {},
    "version_major": 2,
    "version_minor": 0
   }
  }
 },
 "nbformat": 4,
 "nbformat_minor": 4
}
