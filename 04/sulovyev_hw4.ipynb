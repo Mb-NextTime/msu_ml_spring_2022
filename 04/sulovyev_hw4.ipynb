{
 "cells": [
  {
   "cell_type": "markdown",
   "metadata": {},
   "source": [
    "### Алгоритмы интеллектуальной обработки больших объемов данных\n",
    "## Домашнее задание №4 - Градиентный бустинг\n"
   ]
  },
  {
   "cell_type": "markdown",
   "metadata": {},
   "source": [
    "**Общая информация**\n",
    "\n",
    "**Срок сдачи:** 13 июня 2022, 08:30   \n",
    "**Штраф за опоздание:** -2 балла после 08:30 13 июня, -4 балла после 08:30 20 июня, -6 баллов после 08:30 24 мая, -8 баллов после 08:30 31 мая.\n",
    "\n",
    "При отправлении ДЗ указывайте фамилию в названии файла Присылать ДЗ необходимо в виде ссылки на свой github репозиторий на почту ml1.sphere@mail.ru с указанием темы в следующем формате:\n",
    "[ML0422, Задание 4] Фамилия Имя. \n",
    "\n",
    "\n",
    "Используйте данный Ipython Notebook при оформлении домашнего задания."
   ]
  },
  {
   "cell_type": "markdown",
   "metadata": {},
   "source": [
    "##  Считаем производные для функций потерь (1 балл)"
   ]
  },
  {
   "cell_type": "markdown",
   "metadata": {},
   "source": [
    "Мы будем реализовать градиентный бустинг для 3 функций потерь:\n",
    "\n",
    "1) MSE  $L(a(x_i), y_i) = (y_i - a(x_i)) ^ 2$\n",
    "\n",
    "2) Экспоненциальная  $L(a(x_i), y_i) = exp( -a(x_i) y_i), y_i \\in \\{-1, 1\\}$\n",
    "\n",
    "3) Логистическая  $L(a(x_i), y_i) = \\log (1 + exp( -a(x_i) y_i)), y_i \\in \\{-1, 1\\}$\n",
    "\n",
    "где $a(x_i)$ предсказание бустинга на итом объекте. \n",
    "\n",
    "Для каждой функции потерь напишите таргет, на который будет настраиваться каждое дерево в бустинге. "
   ]
  },
  {
   "cell_type": "markdown",
   "metadata": {},
   "source": [
    "***Ваше решение тут***\n",
    "\n",
    "1) MSE  $L(a(x_i), y_i) = (y_i - a(x_i)) ^ 2$\n",
    "\n",
    "> $-\\frac{\\partial L(x, y_i)}{\\partial x} \\big|_{x=F_{k-1}(x_i)} = -\\frac{\\partial (y_i - x) ^ 2}{\\partial x} \\big|_{x=F_{k-1}(x_i)} = y_i - F_{k-1}(x_i)$\n",
    "\n",
    "2) Экспоненциальная  $L(a(x_i), y_i) = exp( -a(x_i) y_i), y_i \\in \\{-1, 1\\}$\n",
    "\n",
    "> $-\\frac{\\partial L(x, y_i)}{\\partial x} \\big|_{x=F_{k-1}(x_i)} = -\\frac{\\partial e^{xy_i}}{\\partial x} \\big|_{x=F_{k-1}(x_i)} = e^{-x y_i}y_i$\n",
    "\n",
    "3) Логистическая  $L(a(x_i), y_i) = \\ln (1 + exp( -a(x_i) y_i)), y_i \\in \\{-1, 1\\}$\n",
    "\n",
    "> $-\\frac{\\partial L(x, y_i)}{\\partial x} \\big|_{x=F_{k-1}(x_i)} = -\\frac{\\partial \\ln (1 + exp( -x y_i))}{\\partial x} \\big|_{x=F_{k-1}(x_i)} = \\frac{y_i}{e^{xy_i} + 1}$"
   ]
  },
  {
   "cell_type": "markdown",
   "metadata": {},
   "source": [
    "##  Реализуем градиентный бустинг (3 балла)"
   ]
  },
  {
   "cell_type": "markdown",
   "metadata": {},
   "source": [
    "Реализуйте класс градиентного бустинга для классификации. Ваша реализация бустинга должна работать по точности не более чем на 5 процентов хуже чем GradientBoostingClassifier из sklearn. \n"
   ]
  },
  {
   "cell_type": "markdown",
   "metadata": {},
   "source": [
    "Детали реализации:\n",
    "\n",
    "-- должно поддерживаться 3 функции потерь\n",
    "\n",
    "-- сами базовые алгоритмы(деревья, линейные модели и тп) реализовать не надо, просто возьмите готовые из sklearn\n",
    "\n",
    "-- в качестве функции потерь для построения одного дерева используйте MSE\n",
    "\n",
    "-- шаг в бустинге можно не подбирать, можно брать константный\n",
    "\n",
    "-- можно брать разные модели в качестве инициализации бустинга\n",
    "\n",
    "-- должны поддерживаться следующие параметры:\n",
    "\n",
    "а) число итераций\n",
    "б) размер шага\n",
    "в) процент случайных фичей при построении одного дерева\n",
    "д) процент случайных объектов при построении одного дерева\n",
    "е) параметры базового алгоритма (передавайте через **kwargs)"
   ]
  },
  {
   "cell_type": "code",
   "execution_count": 1,
   "metadata": {
    "jupyter": {
     "outputs_hidden": true
    }
   },
   "outputs": [],
   "source": [
    "import numpy as np\n",
    "import tqdm\n",
    "import matplotlib.pyplot as plt\n",
    "\n",
    "%matplotlib inline\n",
    "plt.style.use('ggplot')\n",
    "plt.rcParams['figure.figsize'] = (12,5)\n",
    "\n",
    "from sklearn.datasets import load_wine\n",
    "from sklearn.ensemble import GradientBoostingClassifier\n",
    "from sklearn.metrics import accuracy_score\n",
    "from sklearn.model_selection import train_test_split\n",
    "from sklearn.tree import DecisionTreeRegressor, DecisionTreeClassifier\n",
    "from sklearn.ensemble import RandomForestClassifier"
   ]
  },
  {
   "cell_type": "code",
   "execution_count": 2,
   "metadata": {
    "jupyter": {
     "outputs_hidden": true
    }
   },
   "outputs": [],
   "source": [
    "class MyGradientBoostingClassifier:\n",
    "\n",
    "    def __init__(\n",
    "                 self,\n",
    "                 loss='mse',\n",
    "                 learning_rate=0.1,\n",
    "                 n_estimators=100,\n",
    "                 colsample=1.0,\n",
    "                 subsample=1.0,\n",
    "                 *args,\n",
    "                 **kwargs\n",
    "                ):\n",
    "        \"\"\"\n",
    "        loss -- один из 3 лоссов:\n",
    "        learning_rate -- шаг бустинга\n",
    "        n_estimators -- число итераций\n",
    "        colsample -- процент рандомных признаков при обучении одного алгоритма\n",
    "        subsample -- процент рандомных объектов при обучении одного алгоритма\n",
    "        args, kwargs -- параметры  базовых моделей\n",
    "        \"\"\"\n",
    "        # Ваш код здесь\n",
    "        self.loss = loss\n",
    "        self.learning_rate = learning_rate\n",
    "        self.n_estimators = n_estimators\n",
    "        self.colsample = colsample\n",
    "        self.subsample = subsample\n",
    "        self.model_args = args\n",
    "        self.model_kwargs = kwargs\n",
    "        # Список обученных моделей\n",
    "        self.models = []\n",
    "\n",
    "    def get_samples(self, X, y):\n",
    "        objects = np.random.permutation(X.shape[0])\n",
    "        objects = objects[:int(self.subsample * X.shape[0])]\n",
    "        variables = np.random.permutation(X.shape[1])\n",
    "        variables = np.sort(variables[:int(self.colsample * X.shape[1])])\n",
    "        return X[objects, :][:, variables], y[objects], variables\n",
    "        \n",
    "    def init_model_predict(self, X):\n",
    "        predict = getattr(self.init_model, 'predict', None)\n",
    "        if callable(predict):\n",
    "            return self.init_model.predict(X)\n",
    "        else:\n",
    "            return np.zeros(X.shape[0]) + self.init_model\n",
    "    \n",
    "    def calc_grad(self, X, y):\n",
    "        prediction = self.predict(X)\n",
    "\n",
    "        if self.loss == 'log_loss':\n",
    "            return np.round(y / (np.exp(prediction * y) + 1))\n",
    "        \n",
    "        if self.loss == 'mse':\n",
    "            return np.round(y - prediction)\n",
    "        \n",
    "        if self.loss == 'exponential':\n",
    "            return np.round(np.exp(-prediction * y) * y)\n",
    "        \n",
    "    \n",
    "    def fit(self, X, y, base_model=DecisionTreeClassifier, init_model=None):\n",
    "        \"\"\"\n",
    "        X -- объекты для обучения:\n",
    "        y -- таргеты для обучения\n",
    "        base_model -- класс базовых моделей, например sklearn.tree.DecisionTreeRegressor\n",
    "        init_model -- класс для первой модели, если None то берем константу (только для посл задания)\n",
    "        \"\"\"\n",
    "        # Ваш код здесь\n",
    "        X = np.copy(X)\n",
    "        y = np.copy(y)\n",
    "        self.init_model = init_model\n",
    "        if init_model is None:\n",
    "            if self.loss == 'mse':\n",
    "                self.init_model = np.mean(y)\n",
    "            else:\n",
    "                self.init_model = 1\n",
    "        else:\n",
    "            self.init_model = init_model()\n",
    "            self.init_model.fit(X, y)\n",
    "        \n",
    "        for i in range(self.n_estimators):\n",
    "            model = base_model(*self.model_args, **self.model_kwargs)\n",
    "            grad_y = self.calc_grad(X, y)\n",
    "\n",
    "            sample_X, sample_y, model_vars = self.get_samples(X, grad_y)\n",
    "            model.variables = model_vars\n",
    "\n",
    "            model.fit(sample_X, sample_y)\n",
    "            self.models.append(model)\n",
    "        \n",
    "    def predict(self, X):\n",
    "        # Ваш код здесь\n",
    "        predictions = np.float64(self.init_model_predict(X))\n",
    "        for model in self.models:\n",
    "            predictions += (model.predict(X[:, model.variables]) * self.learning_rate)\n",
    "        \n",
    "        if self.loss == 'mse':\n",
    "            prediction = np.round(predictions)\n",
    "        else:\n",
    "            prediction = np.sign(predictions)\n",
    "        return prediction"
   ]
  },
  {
   "cell_type": "code",
   "execution_count": 73,
   "metadata": {},
   "outputs": [],
   "source": [
    "my_clf = MyGradientBoostingClassifier()\n",
    "clf = GradientBoostingClassifier()"
   ]
  },
  {
   "cell_type": "code",
   "execution_count": 76,
   "metadata": {
    "jupyter": {
     "outputs_hidden": true
    }
   },
   "outputs": [],
   "source": [
    "wine = load_wine()\n",
    "X_train, X_test, y_train, y_test = train_test_split(wine.data, wine.target, test_size=0.1, stratify=wine.target)"
   ]
  },
  {
   "cell_type": "code",
   "execution_count": 77,
   "metadata": {},
   "outputs": [
    {
     "name": "stdout",
     "output_type": "stream",
     "text": [
      "1.0\n",
      "1.0\n"
     ]
    }
   ],
   "source": [
    "clf.fit(X_train, y_train)\n",
    "my_clf.fit(X_train, y_train)\n",
    "\n",
    "print(accuracy_score(y_pred=clf.predict(X_test), y_true=y_test))\n",
    "print(accuracy_score(y_pred=my_clf.predict(X_test), y_true=y_test))"
   ]
  },
  {
   "cell_type": "markdown",
   "metadata": {},
   "source": [
    "## Подбираем параметры (2 балла)\n",
    "\n",
    "Давайте попробуем применить Ваш бустинг для предсказаний цены домов в Калифорнии. Чтобы можно было попробовтаь разные функции потерь, переведем по порогу таргет в 2 класса: дорогие и дешевые дома."
   ]
  },
  {
   "cell_type": "markdown",
   "metadata": {},
   "source": [
    "В задании нужно\n",
    "\n",
    "1) Построить график точности в зависимости от числа итераций на валидации.\n",
    "\n",
    "2) Подобрать оптимальные параметры Вашего бустинга на валидации. \n"
   ]
  },
  {
   "cell_type": "code",
   "execution_count": 97,
   "metadata": {},
   "outputs": [],
   "source": [
    "from sklearn.datasets import fetch_california_housing\n",
    "X, y = fetch_california_housing(return_X_y=True)"
   ]
  },
  {
   "cell_type": "code",
   "execution_count": 98,
   "metadata": {},
   "outputs": [
    {
     "name": "stdout",
     "output_type": "stream",
     "text": [
      "(20640, 8) (20640,)\n"
     ]
    }
   ],
   "source": [
    "# Превращаем регрессию в классификацию\n",
    "y = (y > 2.0).astype(int)\n",
    "# Тагретом будут два класса y = {-1, 1}\n",
    "y[y == 0] = -1\n",
    "print(X.shape, y.shape)"
   ]
  },
  {
   "cell_type": "code",
   "execution_count": 99,
   "metadata": {},
   "outputs": [
    {
     "data": {
      "text/plain": [
       "0.7892441860465116"
      ]
     },
     "execution_count": 99,
     "metadata": {},
     "output_type": "execute_result"
    }
   ],
   "source": [
    "clf = MyGradientBoostingClassifier()\n",
    "clf.fit(X_train, y_train)\n",
    "initial_accuracy = accuracy_score(y_test, clf.predict(X_test))\n",
    "initial_accuracy"
   ]
  },
  {
   "cell_type": "code",
   "execution_count": 100,
   "metadata": {},
   "outputs": [],
   "source": [
    "X_train, X_test, y_train, y_test = train_test_split(X, y, test_size=0.1)\n",
    "best_args = {}"
   ]
  },
  {
   "cell_type": "code",
   "execution_count": 101,
   "metadata": {
    "jupyter": {
     "outputs_hidden": true
    }
   },
   "outputs": [
    {
     "name": "stderr",
     "output_type": "stream",
     "text": [
      "100%|██████████| 19/19 [01:40<00:00,  5.31s/it]\n"
     ]
    }
   ],
   "source": [
    "n_estimators = []\n",
    "n_accuracy = []\n",
    "for n in tqdm.tqdm(range(10, 200, 10)):\n",
    "    n_estimators.append(n)\n",
    "    clf = MyGradientBoostingClassifier(n_estimators=n)\n",
    "    clf.fit(X_train, y_train)\n",
    "    n_accuracy.append(accuracy_score(y_test, clf.predict(X_test)))"
   ]
  },
  {
   "cell_type": "code",
   "execution_count": 102,
   "metadata": {
    "jupyter": {
     "outputs_hidden": true
    }
   },
   "outputs": [
    {
     "data": {
      "image/png": "[encoded data removed]",
      "text/plain": [
       "<Figure size 864x360 with 1 Axes>"
      ]
     },
     "metadata": {},
     "output_type": "display_data"
    }
   ],
   "source": [
    "fig, ax = plt.subplots()\n",
    "ax.plot(n_estimators, n_accuracy)\n",
    "best_args['n_estimators'] = n_estimators[np.argmax(n_accuracy)]"
   ]
  },
  {
   "cell_type": "code",
   "execution_count": 103,
   "metadata": {},
   "outputs": [
    {
     "name": "stderr",
     "output_type": "stream",
     "text": [
      "100%|██████████| 3/3 [00:36<00:00, 12.13s/it]\n"
     ]
    }
   ],
   "source": [
    "losses = ['log_loss', 'mse', 'exponential']\n",
    "loss_accuracy = []\n",
    "for loss in tqdm.tqdm(losses):\n",
    "    clf = MyGradientBoostingClassifier(loss=loss, **best_args)\n",
    "    clf.fit(X_train, y_train)\n",
    "    prediction = clf.predict(X_test)\n",
    "    loss_accuracy.append(accuracy_score(y_test, prediction))"
   ]
  },
  {
   "cell_type": "code",
   "execution_count": 104,
   "metadata": {},
   "outputs": [
    {
     "data": {
      "image/png": "[encoded data removed]",
      "text/plain": [
       "<Figure size 864x360 with 1 Axes>"
      ]
     },
     "metadata": {},
     "output_type": "display_data"
    }
   ],
   "source": [
    "fig, ax = plt.subplots()\n",
    "ax.bar(losses, loss_accuracy)\n",
    "best_args['loss'] = losses[np.argmax(loss_accuracy)]"
   ]
  },
  {
   "cell_type": "code",
   "execution_count": 105,
   "metadata": {},
   "outputs": [
    {
     "name": "stderr",
     "output_type": "stream",
     "text": [
      "100%|██████████| 5/5 [00:49<00:00,  9.92s/it]\n"
     ]
    }
   ],
   "source": [
    "learning_rates = list(np.arange(0.1, 0.6, 0.1))\n",
    "lrate_accuracy = []\n",
    "for rate in tqdm.tqdm(learning_rates):\n",
    "    clf = MyGradientBoostingClassifier(learning_rate=rate, **best_args)\n",
    "    clf.fit(X_train, y_train)\n",
    "    prediction = clf.predict(X_test)\n",
    "    lrate_accuracy.append(accuracy_score(y_test, prediction))"
   ]
  },
  {
   "cell_type": "code",
   "execution_count": 106,
   "metadata": {},
   "outputs": [
    {
     "data": {
      "image/png": "[encoded data removed]",
      "text/plain": [
       "<Figure size 864x360 with 1 Axes>"
      ]
     },
     "metadata": {},
     "output_type": "display_data"
    }
   ],
   "source": [
    "fig, ax = plt.subplots()\n",
    "ax.plot(learning_rates, lrate_accuracy)\n",
    "best_args['learning_rate'] = learning_rates[np.argmax(lrate_accuracy)]"
   ]
  },
  {
   "cell_type": "code",
   "execution_count": 107,
   "metadata": {},
   "outputs": [
    {
     "name": "stderr",
     "output_type": "stream",
     "text": [
      "100%|██████████| 8/8 [01:21<00:00, 10.24s/it]\n"
     ]
    }
   ],
   "source": [
    "colsub_samples = list(np.arange(0.3, 1.1, 0.1))\n",
    "colsub_accuracy = []\n",
    "for colsub in tqdm.tqdm(colsub_samples):\n",
    "    clf = MyGradientBoostingClassifier(colsample=colsub, subsample=colsub, **best_args)\n",
    "    clf.fit(X_train, y_train)\n",
    "    prediction = clf.predict(X_test)\n",
    "    colsub_accuracy.append(accuracy_score(y_test, prediction))"
   ]
  },
  {
   "cell_type": "code",
   "execution_count": 108,
   "metadata": {},
   "outputs": [
    {
     "data": {
      "image/png": "[encoded data removed]",
      "text/plain": [
       "<Figure size 864x360 with 1 Axes>"
      ]
     },
     "metadata": {},
     "output_type": "display_data"
    }
   ],
   "source": [
    "fig, ax = plt.subplots()\n",
    "ax.plot(colsub_samples, colsub_accuracy)\n",
    "best_args['colsample'] = colsub_samples[np.argmax(colsub_accuracy)]\n",
    "best_args['subsample'] = colsub_samples[np.argmax(colsub_accuracy)]"
   ]
  },
  {
   "cell_type": "markdown",
   "metadata": {},
   "source": [
    "***Результат:***  \n",
    "\n",
    "Подобрав оптимальные параметры для градиентного бустинга:"
   ]
  },
  {
   "cell_type": "code",
   "execution_count": 109,
   "metadata": {},
   "outputs": [
    {
     "data": {
      "text/plain": [
       "{'n_estimators': 190,\n",
       " 'loss': 'exponential',\n",
       " 'learning_rate': 0.4,\n",
       " 'colsample': 0.9000000000000001,\n",
       " 'subsample': 0.9000000000000001}"
      ]
     },
     "execution_count": 109,
     "metadata": {},
     "output_type": "execute_result"
    }
   ],
   "source": [
    "best_args"
   ]
  },
  {
   "cell_type": "markdown",
   "metadata": {},
   "source": [
    "удалось улучшить точность модели на"
   ]
  },
  {
   "cell_type": "code",
   "execution_count": 110,
   "metadata": {},
   "outputs": [
    {
     "data": {
      "text/plain": [
       "0.057655038759689914"
      ]
     },
     "execution_count": 110,
     "metadata": {},
     "output_type": "execute_result"
    }
   ],
   "source": [
    "np.max(colsub_accuracy) - initial_accuracy"
   ]
  },
  {
   "cell_type": "markdown",
   "metadata": {},
   "source": [
    "## BooBag BagBoo (1 балл)\n",
    "\n"
   ]
  },
  {
   "cell_type": "markdown",
   "metadata": {},
   "source": [
    "Попробуем объединить бустинг и бэгинг. Давайте\n",
    "\n",
    "1) в качестве базовой модели брать не дерево решений, а случайный лес (из sklearn)\n",
    "\n",
    "2) обучать N бустингов на бустрапированной выборке, а затем предикт усреднять"
   ]
  },
  {
   "cell_type": "markdown",
   "metadata": {},
   "source": [
    "Попробуйте обе этих стратегии на данных из прошлого задания. Получилось ли улучшить качество? Почему?"
   ]
  },
  {
   "cell_type": "code",
   "execution_count": 20,
   "metadata": {},
   "outputs": [],
   "source": [
    "X_train, X_test, y_train, y_test = train_test_split(X, y, test_size=0.1)"
   ]
  },
  {
   "cell_type": "code",
   "execution_count": 21,
   "metadata": {
    "jupyter": {
     "outputs_hidden": true
    }
   },
   "outputs": [
    {
     "data": {
      "text/plain": [
       "0.8624031007751938"
      ]
     },
     "execution_count": 21,
     "metadata": {},
     "output_type": "execute_result"
    }
   ],
   "source": [
    "clf = MyGradientBoostingClassifier(n_estimators=10)\n",
    "clf.fit(X_train, y_train, base_model=RandomForestClassifier, )\n",
    "random_forest_accuracy = accuracy_score(y_test, clf.predict(X_test))\n",
    "random_forest_accuracy"
   ]
  },
  {
   "cell_type": "code",
   "execution_count": 22,
   "metadata": {
    "jupyter": {
     "outputs_hidden": true
    }
   },
   "outputs": [
    {
     "data": {
      "text/plain": [
       "0.8706395348837209"
      ]
     },
     "execution_count": 22,
     "metadata": {},
     "output_type": "execute_result"
    }
   ],
   "source": [
    "n_classifiers = 10\n",
    "classifiers = [MyGradientBoostingClassifier() for _ in range(n_classifiers)]\n",
    "for clf in classifiers:\n",
    "    objects = np.random.permutation(X_train.shape[0])\n",
    "    objects = objects[:X_train.shape[0]//2]\n",
    "    clf.fit(X_train[objects], y_train[objects])\n",
    "\n",
    "prediction = np.zeros(X_test.shape[0])\n",
    "for clf in classifiers:\n",
    "    prediction += clf.predict(X_test)\n",
    "prediction = np.sign(prediction)\n",
    "bagboo_accuracy = accuracy_score(y_test, prediction)\n",
    "bagboo_accuracy"
   ]
  },
  {
   "cell_type": "markdown",
   "metadata": {},
   "source": [
    "Да, качество получилось улучшить за счет обучения сильно большего количества моделей, но жертвуя производительностью."
   ]
  },
  {
   "cell_type": "markdown",
   "metadata": {},
   "source": [
    "## Умная инициализация (1 балл)\n",
    "\n",
    "Попробуйте брать в качестве инициализации бустинга не константу, а какой-то алгоритм и уже от его предикта стартовать итерации бустинга. Попробуйте разные модели из sklearn: линейные модели, рандом форест, svm..\n",
    "\n",
    "Получилось ли улучшить качество? Почему?\n",
    "\n"
   ]
  },
  {
   "cell_type": "code",
   "execution_count": 23,
   "metadata": {
    "jupyter": {
     "outputs_hidden": true
    }
   },
   "outputs": [],
   "source": [
    "from sklearn.linear_model import SGDClassifier"
   ]
  },
  {
   "cell_type": "code",
   "execution_count": 24,
   "metadata": {
    "jupyter": {
     "outputs_hidden": true
    }
   },
   "outputs": [
    {
     "name": "stderr",
     "output_type": "stream",
     "text": [
      "100%|██████████| 3/3 [00:46<00:00, 15.55s/it]\n"
     ]
    }
   ],
   "source": [
    "init_models = [RandomForestClassifier, SGDClassifier, DecisionTreeClassifier]\n",
    "init_models_labels = ['Random Forest', 'Linear Model', 'Decision Tree']\n",
    "models_accuracy = []\n",
    "\n",
    "for model in tqdm.tqdm(init_models):\n",
    "    clf = MyGradientBoostingClassifier()\n",
    "    clf.fit(X_train, y_train, init_model=model)\n",
    "    models_accuracy.append(accuracy_score(y_test, clf.predict(X_test)))"
   ]
  },
  {
   "cell_type": "code",
   "execution_count": 25,
   "metadata": {
    "jupyter": {
     "outputs_hidden": true
    },
    "scrolled": true
   },
   "outputs": [
    {
     "data": {
      "image/png": "[encoded data removed]",
      "text/plain": [
       "<Figure size 864x360 with 1 Axes>"
      ]
     },
     "metadata": {},
     "output_type": "display_data"
    }
   ],
   "source": [
    "fig, ax = plt.subplots()\n",
    "ax.bar(init_models_labels, models_accuracy)\n",
    "plt.show()"
   ]
  },
  {
   "cell_type": "markdown",
   "metadata": {},
   "source": [
    "Качество улучшилось незначительно, так как при выборе сильной модели дальнейшее обучение не имеет особого смысла, так как мы и так находимся в минимуме функции ошибки. При выборе неподходящей модели (в данном случае, как видно, линейная) она наоборот будет портить модель переобучаясь на трейне."
   ]
  },
  {
   "cell_type": "markdown",
   "metadata": {},
   "source": [
    "## Фидбек (бесценно)"
   ]
  },
  {
   "cell_type": "markdown",
   "metadata": {},
   "source": [
    "* Какие аспекты обучения  ансамблей Вам показались непонятными? Какое место стоит дополнительно объяснить?"
   ]
  },
  {
   "cell_type": "markdown",
   "metadata": {},
   "source": [
    "### Ваш ответ здесь"
   ]
  },
  {
   "cell_type": "markdown",
   "metadata": {},
   "source": [
    "* Здесь Вы можете оставить отзыв о этой домашней работе или о всем курсе."
   ]
  },
  {
   "cell_type": "markdown",
   "metadata": {},
   "source": [
    "### ВАШ ОТЗЫВ ЗДЕСЬ\n",
    "\n"
   ]
  },
  {
   "cell_type": "markdown",
   "metadata": {
    "collapsed": true,
    "jupyter": {
     "outputs_hidden": true
    }
   },
   "source": [
    "По поводу градиентного бустинга стоило чуть более детально рассмотреть вопрос о том, как конкретно модель делает предсказание в случае классификации."
   ]
  },
  {
   "cell_type": "markdown",
   "metadata": {
    "collapsed": true,
    "jupyter": {
     "outputs_hidden": true
    }
   },
   "source": [
    "Курс понравился, был полезным и интересным!"
   ]
  }
 ],
 "metadata": {
  "anaconda-cloud": {},
  "kernelspec": {
   "display_name": "Python 3",
   "language": "python",
   "name": "python3"
  },
  "language_info": {
   "codemirror_mode": {
    "name": "ipython",
    "version": 3
   },
   "file_extension": ".py",
   "mimetype": "text/x-python",
   "name": "python",
   "nbconvert_exporter": "python",
   "pygments_lexer": "ipython3",
   "version": "3.8.10"
  }
 },
 "nbformat": 4,
 "nbformat_minor": 4
}
